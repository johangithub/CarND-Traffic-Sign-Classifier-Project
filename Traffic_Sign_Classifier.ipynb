{
 "cells": [
  {
   "cell_type": "markdown",
   "metadata": {},
   "source": [
    "# Self-Driving Car Engineer Nanodegree\n",
    "\n",
    "## Deep Learning\n",
    "\n",
    "## Project: Build a Traffic Sign Recognition Classifier\n",
    "\n",
    "In this notebook, a template is provided for you to implement your functionality in stages, which is required to successfully complete this project. If additional code is required that cannot be included in the notebook, be sure that the Python code is successfully imported and included in your submission if necessary. \n",
    "\n",
    "> **Note**: Once you have completed all of the code implementations, you need to finalize your work by exporting the iPython Notebook as an HTML document. Before exporting the notebook to html, all of the code cells need to have been run so that reviewers can see the final implementation and output. You can then export the notebook by using the menu above and navigating to  \\n\",\n",
    "    \"**File -> Download as -> HTML (.html)**. Include the finished document along with this notebook as your submission. \n",
    "\n",
    "In addition to implementing code, there is a writeup to complete. The writeup should be completed in a separate file, which can be either a markdown file or a pdf document. There is a [write up template](https://github.com/udacity/CarND-Traffic-Sign-Classifier-Project/blob/master/writeup_template.md) that can be used to guide the writing process. Completing the code template and writeup template will cover all of the [rubric points](https://review.udacity.com/#!/rubrics/481/view) for this project.\n",
    "\n",
    "The [rubric](https://review.udacity.com/#!/rubrics/481/view) contains \"Stand Out Suggestions\" for enhancing the project beyond the minimum requirements. The stand out suggestions are optional. If you decide to pursue the \"stand out suggestions\", you can include the code in this Ipython notebook and also discuss the results in the writeup file.\n",
    "\n",
    "\n",
    ">**Note:** Code and Markdown cells can be executed using the **Shift + Enter** keyboard shortcut. In addition, Markdown cells can be edited by typically double-clicking the cell to enter edit mode."
   ]
  },
  {
   "cell_type": "markdown",
   "metadata": {},
   "source": [
    "---\n",
    "## Step 0: Load The Data"
   ]
  },
  {
   "cell_type": "code",
   "execution_count": null,
   "metadata": {
    "collapsed": false
   },
   "outputs": [],
   "source": [
    "\n"
   ]
  },
  {
   "cell_type": "markdown",
   "metadata": {},
   "source": [
    "---\n",
    "\n",
    "## Step 1: Dataset Summary & Exploration\n",
    "\n",
    "The pickled data is a dictionary with 4 key/value pairs:\n",
    "\n",
    "- `'features'` is a 4D array containing raw pixel data of the traffic sign images, (num examples, width, height, channels).\n",
    "- `'labels'` is a 1D array containing the label/class id of the traffic sign. The file `signnames.csv` contains id -> name mappings for each id.\n",
    "- `'sizes'` is a list containing tuples, (width, height) representing the original width and height the image.\n",
    "- `'coords'` is a list containing tuples, (x1, y1, x2, y2) representing coordinates of a bounding box around the sign in the image. **THESE COORDINATES ASSUME THE ORIGINAL IMAGE. THE PICKLED DATA CONTAINS RESIZED VERSIONS (32 by 32) OF THESE IMAGES**\n",
    "\n",
    "Complete the basic data summary below. Use python, numpy and/or pandas methods to calculate the data summary rather than hard coding the results. For example, the [pandas shape method](http://pandas.pydata.org/pandas-docs/stable/generated/pandas.DataFrame.shape.html) might be useful for calculating some of the summary results. "
   ]
  },
  {
   "cell_type": "markdown",
   "metadata": {},
   "source": [
    "### Provide a Basic Summary of the Data Set Using Python, Numpy and/or Pandas"
   ]
  },
  {
   "cell_type": "code",
   "execution_count": null,
   "metadata": {
    "collapsed": false
   },
   "outputs": [],
   "source": []
  },
  {
   "cell_type": "markdown",
   "metadata": {},
   "source": [
    "### Include an exploratory visualization of the dataset"
   ]
  },
  {
   "cell_type": "markdown",
   "metadata": {},
   "source": [
    "Visualize the German Traffic Signs Dataset using the pickled file(s). This is open ended, suggestions include: plotting traffic sign images, plotting the count of each sign, etc. \n",
    "\n",
    "The [Matplotlib](http://matplotlib.org/) [examples](http://matplotlib.org/examples/index.html) and [gallery](http://matplotlib.org/gallery.html) pages are a great resource for doing visualizations in Python.\n",
    "\n",
    "**NOTE:** It's recommended you start with something simple first. If you wish to do more, come back to it after you've completed the rest of the sections. It can be interesting to look at the distribution of classes in the training, validation and test set. Is the distribution the same? Are there more examples of some classes than others?"
   ]
  },
  {
   "cell_type": "code",
   "execution_count": 34,
   "metadata": {
    "collapsed": false
   },
   "outputs": [
    {
     "name": "stdout",
     "output_type": "stream",
     "text": [
      "Number of training examples = 34799\n",
      "Number of validation examples = 4410\n",
      "Number of testing examples = 12630\n",
      "Image data shape = (32, 32, 3)\n",
      "Number of classes = 43\n",
      "Count of each class in list\n",
      "[(0, 180), (1, 1980), (2, 2010), (3, 1260), (4, 1770), (5, 1650), (6, 360), (7, 1290), (8, 1260), (9, 1320), (10, 1800), (11, 1170), (12, 1890), (13, 1920), (14, 690), (15, 540), (16, 360), (17, 990), (18, 1080), (19, 180), (20, 300), (21, 270), (22, 330), (23, 450), (24, 240), (25, 1350), (26, 540), (27, 210), (28, 480), (29, 240), (30, 390), (31, 690), (32, 210), (33, 599), (34, 360), (35, 1080), (36, 330), (37, 180), (38, 1860), (39, 270), (40, 300), (41, 210), (42, 210)]\n"
     ]
    },
    {
     "data": {
      "image/png": "[encoded data removed]",
      "text/plain": [
       "<matplotlib.figure.Figure at 0x7fac4e4a8cf8>"
      ]
     },
     "metadata": {},
     "output_type": "display_data"
    }
   ],
   "source": [
    "# Load pickled data\n",
    "import pickle\n",
    "import numpy as np\n",
    "import tensorflow as tf\n",
    "import matplotlib.pyplot as plt\n",
    "import pandas as pd\n",
    "import random\n",
    "from sklearn.utils import shuffle\n",
    "import time\n",
    "# Fill this in based on where you saved the training and testing data\n",
    "\n",
    "training_file = './train.p'\n",
    "validation_file='./valid.p'\n",
    "testing_file = './test.p'\n",
    "\n",
    "with open(training_file, mode='rb') as f:\n",
    "    train = pickle.load(f)\n",
    "with open(validation_file, mode='rb') as f:\n",
    "    valid = pickle.load(f)\n",
    "with open(testing_file, mode='rb') as f:\n",
    "    test = pickle.load(f)\n",
    "    \n",
    "X_train, y_train = train['features'], train['labels']\n",
    "X_valid, y_valid = valid['features'], valid['labels']\n",
    "X_test, y_test = test['features'], test['labels']\n",
    "\n",
    "\n",
    "X_train = X_train.astype(float)\n",
    "X_train = (X_train - 128)/128\n",
    "# %%\n",
    "\n",
    "### Replace each question mark with the appropriate value. \n",
    "### Use python, pandas or numpy methods rather than hard coding the results\n",
    "\n",
    "# Number of training examples\n",
    "n_train = X_train.shape[0]\n",
    "\n",
    "# Number of validation examples\n",
    "n_validation = X_valid.shape[0]\n",
    "\n",
    "# Number of testing examples.\n",
    "n_test = X_test.shape[0]\n",
    "\n",
    "# What's the shape of an traffic sign image?\n",
    "image_shape = X_train.shape[1:]\n",
    "\n",
    "# How many unique classes/labels there are in the dataset.\n",
    "n_classes = len(np.unique(y_train))\n",
    "\n",
    "print(\"Number of training examples =\", n_train)\n",
    "print(\"Number of validation examples =\", n_validation)\n",
    "print(\"Number of testing examples =\", n_test)\n",
    "print(\"Image data shape =\", image_shape)\n",
    "print(\"Number of classes =\", n_classes)\n",
    "\n",
    "### Data exploration visualization code goes here.\n",
    "### Feel free to use as many code cells as needed.\n",
    "\n",
    "\n",
    "# Visualizations will be shown in the notebook.\n",
    "#%matplotlib inline\n",
    "\n",
    "#index = random.randint(0, len(X_train))\n",
    "#image = X_train[index].squeeze()\n",
    "#show one example\n",
    "#plt.figure(figsize=(1,1))\n",
    "#plt.imshow(image)\n",
    "\n",
    "#Count of each class\n",
    "count = np.bincount(y_train)\n",
    "ii = np.nonzero(count)[0]\n",
    "freq = zip(ii, count[ii])\n",
    "\n",
    "print('Count of each class in list')\n",
    "print([i for i in freq])\n",
    "plt.bar(range(len(ii)),count[ii])\n",
    "plt.title('Distribution of signs in the training data')\n",
    "plt.ylabel('Count')\n",
    "plt.xlabel('Signs')\n",
    "plt.savefig('writeup_plots/distribution.png')\n",
    "#Image.open('writeup_plots/distribution.png').save('writeup_plots/distribution.jpg', 'JPEG')\n",
    "plt.show()\n",
    "#print('Class: ',y_train[index])\n"
   ]
  },
  {
   "cell_type": "markdown",
   "metadata": {},
   "source": [
    "----\n",
    "\n",
    "## Step 2: Design and Test a Model Architecture\n",
    "\n",
    "Design and implement a deep learning model that learns to recognize traffic signs. Train and test your model on the [German Traffic Sign Dataset](http://benchmark.ini.rub.de/?section=gtsrb&subsection=dataset).\n",
    "\n",
    "The LeNet-5 implementation shown in the [classroom](https://classroom.udacity.com/nanodegrees/nd013/parts/fbf77062-5703-404e-b60c-95b78b2f3f9e/modules/6df7ae49-c61c-4bb2-a23e-6527e69209ec/lessons/601ae704-1035-4287-8b11-e2c2716217ad/concepts/d4aca031-508f-4e0b-b493-e7b706120f81) at the end of the CNN lesson is a solid starting point. You'll have to change the number of classes and possibly the preprocessing, but aside from that it's plug and play! \n",
    "\n",
    "With the LeNet-5 solution from the lecture, you should expect a validation set accuracy of about 0.89. To meet specifications, the validation set accuracy will need to be at least 0.93. It is possible to get an even higher accuracy, but 0.93 is the minimum for a successful project submission. \n",
    "\n",
    "There are various aspects to consider when thinking about this problem:\n",
    "\n",
    "- Neural network architecture (is the network over or underfitting?)\n",
    "- Play around preprocessing techniques (normalization, rgb to grayscale, etc)\n",
    "- Number of examples per label (some have more than others).\n",
    "- Generate fake data.\n",
    "\n",
    "Here is an example of a [published baseline model on this problem](http://yann.lecun.com/exdb/publis/pdf/sermanet-ijcnn-11.pdf). It's not required to be familiar with the approach used in the paper but, it's good practice to try to read papers like these."
   ]
  },
  {
   "cell_type": "markdown",
   "metadata": {},
   "source": [
    "### Pre-process the Data Set (normalization, grayscale, etc.)"
   ]
  },
  {
   "cell_type": "markdown",
   "metadata": {},
   "source": [
    "Minimally, the image data should be normalized so that the data has mean zero and equal variance. For image data, `(pixel - 128)/ 128` is a quick way to approximately normalize the data and can be used in this project. \n",
    "\n",
    "Other pre-processing steps are optional. You can try different techniques to see if it improves performance. \n",
    "\n",
    "Use the code cell (or multiple code cells, if necessary) to implement the first step of your project."
   ]
  },
  {
   "cell_type": "code",
   "execution_count": 2,
   "metadata": {
    "collapsed": false
   },
   "outputs": [],
   "source": [
    "### Preprocess the data here. It is required to normalize the data. Other preprocessing steps could include \n",
    "### converting to grayscale, etc.\n",
    "### Feel free to use as many code cells as needed.\n",
    "#from sklearn.preprocessing import normalize\n",
    "#for i in range(3):\n",
    "#    print(normalize(X_train[:,:,:,i]))"
   ]
  },
  {
   "cell_type": "markdown",
   "metadata": {},
   "source": [
    "### Model Architecture"
   ]
  },
  {
   "cell_type": "code",
   "execution_count": 35,
   "metadata": {
    "collapsed": false
   },
   "outputs": [],
   "source": [
    "def VGG_small(x):\n",
    "    mu = 0\n",
    "    sigma = 0.1\n",
    "    strides = [1,1,1,1]\n",
    "    # Conv Layer 1_1. Input = 32x32x3. Output = 32x32x64.\n",
    "    F_W = tf.Variable(tf.truncated_normal([3,3,3,32], mean=mu, stddev=sigma))\n",
    "    F_b = tf.Variable(tf.zeros(32))\n",
    "\n",
    "\n",
    "    conv1_1 = tf.nn.conv2d(x, F_W, strides, 'SAME') + F_b\n",
    "    conv1_1 = tf.nn.relu(conv1_1)\n",
    "    \n",
    "    # Conv Layer 1_2: Input 32x32x64. Output = 32x32x64\n",
    "    F_W2 = tf.Variable(tf.truncated_normal([3,3,32,32], mean=mu, stddev=sigma))\n",
    "    F_b2 = tf.Variable(tf.zeros(32))\n",
    "\n",
    "    conv1_2 = tf.nn.conv2d(conv1_1, F_W2, strides, 'SAME') + F_b2\n",
    "    conv1_2 = tf.nn.relu(conv1_2)\n",
    "    \n",
    "    # Pooling 1. Input = 32x32x64. Output = 16x16x64.\n",
    "    pool1 = tf.nn.max_pool(conv1_2, ksize=[1,2,2,1], strides=[1,2,2,1], padding='SAME')\n",
    "    \n",
    "    # Conv Layer 2_1. Input = 16x16x64. Output = 16x16x128.\n",
    "    F_W3 = tf.Variable(tf.truncated_normal([3,3,32,64], mean=mu, stddev=sigma))\n",
    "    F_b3 = tf.Variable(tf.zeros(64))\n",
    "\n",
    "    conv2_1 = tf.nn.conv2d(pool1, F_W3, strides, 'SAME') + F_b3\n",
    "    conv2_1 = tf.nn.relu(conv2_1)\n",
    "    \n",
    "    # Conv Layer 2_2. Input = 16x16x128. Output = 16x16x128.\n",
    "    F_W4 = tf.Variable(tf.truncated_normal([3,3,64,64], mean=mu, stddev=sigma))\n",
    "    F_b4 = tf.Variable(tf.zeros(64))\n",
    "\n",
    "    conv2_2 = tf.nn.conv2d(conv2_1, F_W4, strides, 'SAME') + F_b4\n",
    "    conv2_2 = tf.nn.relu(conv2_2)\n",
    "    \n",
    "    # Pooling 2. Input = 16x16x128. Output = 8x8x128.\n",
    "    pool2 = tf.nn.max_pool(conv2_2, ksize=[1,2,2,1], strides=[1,2,2,1], padding='SAME')\n",
    "    \n",
    "    \"\"\"\n",
    "    # Conv Layer 3_1. Input = 8x8x128. Output = 8x8x256.\n",
    "    F_W5 = tf.Variable(tf.truncated_normal([3,3,128,256], mean=mu, stddev=sigma))\n",
    "    F_b5 = tf.Variable(tf.zeros(256))\n",
    "\n",
    "    conv3_1 = tf.nn.conv2d(pool2, F_W5, strides, 'SAME') + F_b5\n",
    "    conv3_1 = tf.nn.relu(conv3_1)\n",
    "    \n",
    "    # Conv Layer 3_2. Input = 8x8x256. Output = 8x8x256.\n",
    "    F_W6 = tf.Variable(tf.truncated_normal([3,3,256,256], mean=mu, stddev=sigma))\n",
    "    F_b6 = tf.Variable(tf.zeros(256))\n",
    "\n",
    "    conv3_2 = tf.nn.conv2d(conv3_1, F_W6, strides, 'SAME') + F_b6\n",
    "    conv3_2 = tf.nn.relu(conv3_2)\n",
    "    \n",
    "    # Pooling 3. Input = 8x8x256. Output = 4x4x256.\n",
    "    pool3 = tf.nn.max_pool(conv3_2, ksize=[1,2,2,1], strides=[1,2,2,1], padding='SAME')\n",
    "    \"\"\"\n",
    "    \n",
    "    # Flatten. Input = 8x8x128 = 8192. Output = 128\n",
    "    F_W7 = tf.Variable(tf.truncated_normal([4096, 128], mean=mu, stddev=sigma))\n",
    "    F_b7 = tf.Variable(tf.zeros(128))\n",
    "    fc1 = tf.reshape(pool2, [-1, F_W7.get_shape().as_list()[0]])\n",
    "    fc1 = tf.add(tf.matmul(fc1, F_W7), F_b7)\n",
    "    #fc1 = tf.contrib.layers.batch_norm(fc1, center=True, scale=True, is_training=phase, scope='bn1')\n",
    "    fc1 = tf.nn.relu(fc1)\n",
    "    fc1 = tf.nn.dropout(fc1, keep_prob)\n",
    "    \n",
    "    \n",
    "    # Fully Connected Layer 2. Input = 128. Output = 43\n",
    "    F_W8 = tf.Variable(tf.truncated_normal([128, n_classes], mean=mu, stddev=sigma))\n",
    "    F_b8 = tf.Variable(tf.zeros(n_classes))\n",
    "    fc2 = tf.add(tf.matmul(fc1, F_W8), F_b8)\n",
    "    #fc2 = tf.contrib.layers.batch_norm(fc2, center=True, scale=True, is_training=phase, scope='bn2')\n",
    "    fc2 = tf.nn.relu(fc2)\n",
    "    fc2 = tf.nn.dropout(fc2, keep_prob)\n",
    "    \"\"\"\n",
    "    # Fully Connected Layer 3. Input = 43. Output = 43    \n",
    "    F_W9 = tf.Variable(tf.truncated_normal([128, n_classes], mean=mu, stddev=sigma))\n",
    "    F_b9 = tf.Variable(tf.zeros(n_classes))\n",
    "    fc3 = tf.add(tf.matmul(fc2, F_W9), F_b9)\n",
    "    \n",
    "    \"\"\"\n",
    "    F_W10 = tf.Variable(tf.truncated_normal([n_classes, n_classes], mean=mu, stddev=sigma))\n",
    "    F_b10 = tf.Variable(tf.zeros(n_classes))\n",
    "    logits = tf.add(tf.matmul(fc2, F_W10), F_b10)\n",
    "    \n",
    "    return logits\n",
    "   "
   ]
  },
  {
   "cell_type": "markdown",
   "metadata": {},
   "source": [
    "### Train, Validate and Test the Model"
   ]
  },
  {
   "cell_type": "markdown",
   "metadata": {},
   "source": [
    "A validation set can be used to assess how well the model is performing. A low accuracy on the training and validation\n",
    "sets imply underfitting. A high accuracy on the training set but low accuracy on the validation set implies overfitting."
   ]
  },
  {
   "cell_type": "code",
   "execution_count": 80,
   "metadata": {
    "collapsed": false,
    "scrolled": false
   },
   "outputs": [],
   "source": [
    "# %%\n",
    "### Train your model here.\n",
    "### Calculate and report the accuracy on the training and validation set.\n",
    "### Once a final model architecture is selected, \n",
    "### the accuracy on the test set should be calculated and reported as well.\n",
    "### Feel free to use as many code cells as needed.\n",
    "tf.reset_default_graph()\n",
    "x = tf.placeholder(tf.float32, (None, 32, 32, 3))\n",
    "y = tf.placeholder(tf.int32, (None))\n",
    "keep_prob = tf.placeholder(tf.float32)\n",
    "one_hot_y = tf.one_hot(y, n_classes)\n",
    "#phase = tf.placeholder(tf.bool)\n",
    "\n",
    "learning_rate = 5e-4\n",
    "EPOCHS = 100\n",
    "BATCH_SIZE = 128\n",
    "\n",
    "logits = VGG_small(x)\n",
    "\n",
    "# For decaying learning rate\n",
    "global_step = tf.Variable(0, trainable=False)\n",
    "decaying_rate = tf.train.exponential_decay(learning_rate, global_step, 100000, 0.94, staircase=True)\n",
    "\n",
    "cross_entropy = tf.nn.softmax_cross_entropy_with_logits(labels=one_hot_y, logits=logits)\n",
    "loss_operation = tf.reduce_mean(cross_entropy)\n",
    "#optimizer = tf.train.AdamOptimizer(learning_rate)\n",
    "optimizer = tf.train.AdamOptimizer(decaying_rate)\n",
    "training_operation = optimizer.minimize(loss_operation)\n",
    "\n",
    "correct_prediction = tf.equal(tf.argmax(logits, 1), tf.argmax(one_hot_y, 1))\n",
    "accuracy_operation = tf.reduce_mean(tf.cast(correct_prediction, tf.float32))\n",
    "saver = tf.train.Saver()\n",
    "\n",
    "def evaluate(X_data, y_data):\n",
    "    num_examples = len(X_data)\n",
    "    total_accuracy = 0\n",
    "    sess = tf.get_default_session()\n",
    "    for offset in range(0, num_examples, BATCH_SIZE):\n",
    "        batch_x, batch_y = X_data[offset:offset+BATCH_SIZE], y_data[offset:offset+BATCH_SIZE]\n",
    "        accuracy = sess.run(accuracy_operation, feed_dict={x: batch_x, y: batch_y, keep_prob: 1})\n",
    "        total_accuracy += (accuracy * len(batch_x))\n",
    "    return total_accuracy / num_examples\n",
    "\n"
   ]
  },
  {
   "cell_type": "code",
   "execution_count": 79,
   "metadata": {
    "collapsed": false
   },
   "outputs": [
    {
     "name": "stdout",
     "output_type": "stream",
     "text": [
      "Training...\n",
      "\n"
     ]
    },
    {
     "ename": "ValueError",
     "evalue": "Could not flatten dictionary. Key had 2 elements, but value had 1 elements. Key: [<tf.Tensor 'TopKV2_20:0' shape=(?, 2) dtype=float32>, <tf.Tensor 'TopKV2_20:1' shape=(?, 2) dtype=int32>], value: [array([[[[-0.7421875, -0.734375 , -0.6328125],\n         [-0.71875  , -0.7578125, -0.65625  ],\n         [-0.71875  , -0.75     , -0.71875  ],\n         ..., \n         [-0.6953125, -0.703125 , -0.6875   ],\n         [-0.703125 , -0.6015625, -0.546875 ],\n         [-0.5546875, -0.4453125, -0.375    ]],\n\n        [[-0.7421875, -0.7265625, -0.6328125],\n         [-0.6796875, -0.703125 , -0.609375 ],\n         [-0.671875 , -0.6953125, -0.6796875],\n         ..., \n         [-0.609375 , -0.609375 , -0.53125  ],\n         [-0.5546875, -0.4609375, -0.328125 ],\n         [-0.5625   , -0.4609375, -0.3125   ]],\n\n        [[-0.703125 , -0.6875   , -0.6640625],\n         [-0.6875   , -0.6875   , -0.6640625],\n         [-0.6796875, -0.6875   , -0.6953125],\n         ..., \n         [-0.4375   , -0.4453125, -0.265625 ],\n         [-0.3828125, -0.3125   , -0.171875 ],\n         [-0.5      , -0.4140625, -0.4609375]],\n\n        ..., \n        [[-0.71875  , -0.71875  , -0.78125  ],\n         [-0.734375 , -0.765625 , -0.78125  ],\n         [-0.75     , -0.7734375, -0.7890625],\n         ..., \n         [ 0.421875 , -0.2421875, -0.3828125],\n         [ 0.546875 , -0.1953125, -0.3984375],\n         [ 0.6640625, -0.1796875, -0.40625  ]],\n\n        [[-0.6796875, -0.6796875, -0.7265625],\n         [-0.7421875, -0.7578125, -0.796875 ],\n         [-0.7578125, -0.78125  , -0.796875 ],\n         ..., \n         [ 0.453125 , -0.2109375, -0.390625 ],\n         [ 0.6171875, -0.171875 , -0.390625 ],\n         [ 0.6796875, -0.1796875, -0.40625  ]],\n\n        [[-0.640625 , -0.65625  , -0.703125 ],\n         [-0.7265625, -0.7421875, -0.765625 ],\n         [-0.78125  , -0.796875 , -0.8125   ],\n         ..., \n         [ 0.390625 , -0.2421875, -0.3828125],\n         [ 0.5625   , -0.2109375, -0.375    ],\n         [ 0.59375  , -0.234375 , -0.421875 ]]],\n\n\n       [[[-0.0234375,  0.109375 ,  0.34375  ],\n         [-0.0234375,  0.1015625,  0.3359375],\n         [-0.0234375,  0.1015625,  0.3203125],\n         ..., \n         [-0.015625 ,  0.140625 ,  0.3828125],\n         [ 0.0078125,  0.1484375,  0.390625 ],\n         [ 0.0078125,  0.140625 ,  0.375    ]],\n\n        [[-0.1328125,  0.015625 ,  0.265625 ],\n         [-0.109375 ,  0.0390625,  0.296875 ],\n         [-0.1328125,  0.0078125,  0.2421875],\n         ..., \n         [-0.1640625, -0.015625 ,  0.21875  ],\n         [-0.109375 ,  0.03125  ,  0.265625 ],\n         [-0.1171875,  0.0234375,  0.2421875]],\n\n        [[-0.2109375, -0.0390625,  0.21875  ],\n         [-0.1796875, -0.0234375,  0.2421875],\n         [-0.203125 , -0.0546875,  0.1953125],\n         ..., \n         [-0.2421875, -0.09375  ,  0.140625 ],\n         [-0.2421875, -0.09375  ,  0.140625 ],\n         [-0.234375 , -0.09375  ,  0.140625 ]],\n\n        ..., \n        [[-0.6015625, -0.6640625, -0.6875   ],\n         [-0.421875 , -0.5078125, -0.5390625],\n         [-0.484375 , -0.5859375, -0.59375  ],\n         ..., \n         [-0.671875 , -0.703125 , -0.6796875],\n         [-0.6640625, -0.6875   , -0.6640625],\n         [-0.671875 , -0.6953125, -0.671875 ]],\n\n        [[-0.5234375, -0.6328125, -0.6171875],\n         [-0.1875   , -0.296875 , -0.2890625],\n         [-0.296875 , -0.4140625, -0.3515625],\n         ..., \n         [-0.671875 , -0.6875   , -0.65625  ],\n         [-0.65625  , -0.671875 , -0.640625 ],\n         [-0.65625  , -0.6796875, -0.65625  ]],\n\n        [[-0.59375  , -0.59375  , -0.546875 ],\n         [-0.6015625, -0.6171875, -0.5625   ],\n         [-0.6015625, -0.6328125, -0.515625 ],\n         ..., \n         [-0.671875 , -0.6875   , -0.6484375],\n         [-0.6796875, -0.6796875, -0.6328125],\n         [-0.6875   , -0.6796875, -0.6484375]]],\n\n\n       [[[-0.34375  , -0.328125 , -0.390625 ],\n         [-0.421875 , -0.390625 , -0.4296875],\n         [-0.4296875, -0.40625  , -0.421875 ],\n         ..., \n         [-0.515625 , -0.484375 , -0.4453125],\n         [-0.5      , -0.4765625, -0.4296875],\n         [-0.46875  , -0.453125 , -0.4375   ]],\n\n        [[-0.3828125, -0.3671875, -0.421875 ],\n         [-0.4609375, -0.4375   , -0.4609375],\n         [-0.4765625, -0.46875  , -0.46875  ],\n         ..., \n         [-0.4921875, -0.484375 , -0.4453125],\n         [-0.4921875, -0.46875  , -0.4296875],\n         [-0.484375 , -0.4609375, -0.4375   ]],\n\n        [[-0.4453125, -0.4140625, -0.4296875],\n         [-0.484375 , -0.46875  , -0.453125 ],\n         [-0.484375 , -0.484375 , -0.4921875],\n         ..., \n         [-0.5      , -0.484375 , -0.4609375],\n         [-0.5      , -0.4765625, -0.4140625],\n         [-0.5      , -0.46875  , -0.421875 ]],\n\n        ..., \n        [[ 0.6953125,  0.390625 ,  0.4140625],\n         [ 0.6328125,  0.453125 ,  0.40625  ],\n         [ 0.75     ,  0.5625   ,  0.46875  ],\n         ..., \n         [-0.453125 , -0.4453125, -0.515625 ],\n         [-0.3046875, -0.265625 , -0.3828125],\n         [-0.2265625, -0.2109375, -0.296875 ]],\n\n        [[ 0.7421875,  0.453125 ,  0.4140625],\n         [ 0.640625 ,  0.546875 ,  0.4765625],\n         [ 0.71875  ,  0.5546875,  0.4921875],\n         ..., \n         [-0.4140625, -0.40625  , -0.4453125],\n         [-0.3515625, -0.3125   , -0.421875 ],\n         [-0.375    , -0.328125 , -0.4140625]],\n\n        [[ 0.7265625,  0.5234375,  0.4453125],\n         [ 0.6484375,  0.515625 ,  0.453125 ],\n         [ 0.75     ,  0.5234375,  0.5      ],\n         ..., \n         [-0.3984375, -0.296875 , -0.3828125],\n         [-0.125    ,  0.015625 , -0.1328125],\n         [-0.375    , -0.2578125, -0.4375   ]]],\n\n\n       ..., \n       [[[-0.0625   ,  0.       ,  0.       ],\n         [-0.6171875, -0.515625 , -0.5625   ],\n         [-0.515625 , -0.3671875, -0.390625 ],\n         ..., \n         [-0.1328125,  0.0078125,  0.1015625],\n         [ 0.3046875,  0.5078125,  0.6015625],\n         [ 0.90625  ,  0.9921875,  0.9921875]],\n\n        [[ 0.1640625,  0.       , -0.0078125],\n         [-0.4765625, -0.5      , -0.5625   ],\n         [-0.5078125, -0.3984375, -0.4375   ],\n         ..., \n         [-0.140625 ,  0.0234375,  0.109375 ],\n         [ 0.3515625,  0.6015625,  0.6484375],\n         [ 0.875    ,  0.9921875,  0.9921875]],\n\n        [[-0.0625   , -0.40625  , -0.4296875],\n         [-0.390625 , -0.5234375, -0.59375  ],\n         [-0.5      , -0.421875 , -0.46875  ],\n         ..., \n         [-0.4453125, -0.2734375, -0.140625 ],\n         [ 0.0703125,  0.34375  ,  0.59375  ],\n         [ 0.7734375,  0.9140625,  0.9921875]],\n\n        ..., \n        [[-0.765625 , -0.7734375, -0.765625 ],\n         [-0.765625 , -0.78125  , -0.7734375],\n         [-0.7578125, -0.78125  , -0.765625 ],\n         ..., \n         [-0.71875  , -0.7578125, -0.75     ],\n         [-0.765625 , -0.828125 , -0.8203125],\n         [-0.859375 , -0.890625 , -0.8828125]],\n\n        [[-0.734375 , -0.75     , -0.734375 ],\n         [-0.7265625, -0.7421875, -0.7265625],\n         [-0.71875  , -0.734375 , -0.703125 ],\n         ..., \n         [-0.7109375, -0.765625 , -0.7421875],\n         [-0.7421875, -0.828125 , -0.8125   ],\n         [-0.84375  , -0.8828125, -0.875    ]],\n\n        [[-0.7890625, -0.8125   , -0.796875 ],\n         [-0.8046875, -0.8203125, -0.8046875],\n         [-0.7890625, -0.796875 , -0.78125  ],\n         ..., \n         [-0.5546875, -0.625    , -0.5625   ],\n         [-0.6484375, -0.75     , -0.7265625],\n         [-0.8125   , -0.8671875, -0.8671875]]],\n\n\n       [[[-0.8671875, -0.875    , -0.8984375],\n         [-0.859375 , -0.8671875, -0.890625 ],\n         [-0.8671875, -0.875    , -0.8671875],\n         ..., \n         [-0.84375  , -0.859375 , -0.8515625],\n         [-0.859375 , -0.859375 , -0.8515625],\n         [-0.875    , -0.875    , -0.859375 ]],\n\n        [[-0.765625 , -0.8046875, -0.84375  ],\n         [-0.7734375, -0.7890625, -0.8359375],\n         [-0.875    , -0.875    , -0.875    ],\n         ..., \n         [-0.8671875, -0.859375 , -0.859375 ],\n         [-0.875    , -0.875    , -0.859375 ],\n         [-0.8828125, -0.8828125, -0.859375 ]],\n\n        [[-0.796875 , -0.8359375, -0.8515625],\n         [-0.8125   , -0.8203125, -0.84375  ],\n         [-0.890625 , -0.890625 , -0.8828125],\n         ..., \n         [-0.890625 , -0.890625 , -0.8828125],\n         [-0.8828125, -0.8828125, -0.8671875],\n         [-0.8828125, -0.8828125, -0.859375 ]],\n\n        ..., \n        [[-0.8828125, -0.8828125, -0.859375 ],\n         [-0.8828125, -0.8828125, -0.859375 ],\n         [-0.8828125, -0.8828125, -0.8671875],\n         ..., \n         [-0.8828125, -0.8828125, -0.875    ],\n         [-0.890625 , -0.890625 , -0.8828125],\n         [-0.890625 , -0.890625 , -0.8828125]],\n\n        [[-0.8828125, -0.875    , -0.8671875],\n         [-0.8828125, -0.8828125, -0.875    ],\n         [-0.8828125, -0.8828125, -0.875    ],\n         ..., \n         [-0.8828125, -0.875    , -0.8671875],\n         [-0.890625 , -0.890625 , -0.8828125],\n         [-0.890625 , -0.890625 , -0.8828125]],\n\n        [[-0.8671875, -0.875    , -0.875    ],\n         [-0.8671875, -0.8671875, -0.8671875],\n         [-0.8515625, -0.84375  , -0.84375  ],\n         ..., \n         [-0.8671875, -0.8671875, -0.859375 ],\n         [-0.8828125, -0.875    , -0.8671875],\n         [-0.8828125, -0.8828125, -0.875    ]]],\n\n\n       [[[-0.3125   ,  0.0625   ,  0.1796875],\n         [-0.0625   ,  0.015625 ,  0.1328125],\n         [ 0.734375 ,  0.734375 ,  0.796875 ],\n         ..., \n         [ 0.9921875,  0.9921875,  0.9921875],\n         [ 0.9921875,  0.9921875,  0.9921875],\n         [ 0.9921875,  0.9921875,  0.9921875]],\n\n        [[ 0.3515625,  0.5703125,  0.65625  ],\n         [ 0.3984375,  0.609375 ,  0.6953125],\n         [ 0.5546875,  0.71875  ,  0.859375 ],\n         ..., \n         [ 0.9921875,  0.9921875,  0.9921875],\n         [ 0.9921875,  0.9921875,  0.9921875],\n         [ 0.9921875,  0.9921875,  0.9921875]],\n\n        [[ 0.8515625,  0.9453125,  0.9921875],\n         [ 0.5234375,  0.7890625,  0.9140625],\n         [ 0.4375   ,  0.7265625,  0.8828125],\n         ..., \n         [ 0.9921875,  0.9921875,  0.9921875],\n         [ 0.9921875,  0.9921875,  0.9921875],\n         [ 0.9921875,  0.9921875,  0.9921875]],\n\n        ..., \n        [[ 0.3046875,  0.65625  ,  0.7890625],\n         [ 0.2265625,  0.203125 ,  0.3671875],\n         [ 0.8359375,  0.765625 ,  0.8046875],\n         ..., \n         [ 0.2421875,  0.4140625,  0.796875 ],\n         [-0.046875 ,  0.109375 ,  0.2421875],\n         [-0.0859375, -0.03125  ,  0.046875 ]],\n\n        [[ 0.53125  ,  0.796875 ,  0.859375 ],\n         [ 0.703125 ,  0.6875   ,  0.7578125],\n         [ 0.96875  ,  0.9296875,  0.9453125],\n         ..., \n         [ 0.2890625,  0.421875 ,  0.7109375],\n         [ 0.       ,  0.1171875,  0.390625 ],\n         [-0.109375 , -0.0390625,  0.1875   ]],\n\n        [[ 0.9140625,  0.9609375,  0.9765625],\n         [ 0.9609375,  0.984375 ,  0.9921875],\n         [ 0.9765625,  0.9921875,  0.9921875],\n         ..., \n         [ 0.171875 ,  0.25     ,  0.578125 ],\n         [ 0.03125  ,  0.0546875,  0.296875 ],\n         [-0.015625 , -0.015625 ,  0.1640625]]]])].",
     "output_type": "error",
     "traceback": [
      "\u001b[0;31m---------------------------------------------------------------------------\u001b[0m",
      "\u001b[0;31mValueError\u001b[0m                                Traceback (most recent call last)",
      "\u001b[0;32m<ipython-input-79-bd0e07a22a82>\u001b[0m in \u001b[0;36m<module>\u001b[0;34m()\u001b[0m\n\u001b[1;32m     12\u001b[0m             \u001b[0mend\u001b[0m \u001b[0;34m=\u001b[0m \u001b[0moffset\u001b[0m \u001b[0;34m+\u001b[0m \u001b[0mBATCH_SIZE\u001b[0m\u001b[0;34m\u001b[0m\u001b[0m\n\u001b[1;32m     13\u001b[0m             \u001b[0mbatch_x\u001b[0m\u001b[0;34m,\u001b[0m \u001b[0mbatch_y\u001b[0m \u001b[0;34m=\u001b[0m \u001b[0mX_train\u001b[0m\u001b[0;34m[\u001b[0m\u001b[0moffset\u001b[0m\u001b[0;34m:\u001b[0m\u001b[0mend\u001b[0m\u001b[0;34m]\u001b[0m\u001b[0;34m,\u001b[0m \u001b[0my_train\u001b[0m\u001b[0;34m[\u001b[0m\u001b[0moffset\u001b[0m\u001b[0;34m:\u001b[0m\u001b[0mend\u001b[0m\u001b[0;34m]\u001b[0m\u001b[0;34m\u001b[0m\u001b[0m\n\u001b[0;32m---> 14\u001b[0;31m             \u001b[0msess\u001b[0m\u001b[0;34m.\u001b[0m\u001b[0mrun\u001b[0m\u001b[0;34m(\u001b[0m\u001b[0mtraining_operation\u001b[0m\u001b[0;34m,\u001b[0m \u001b[0mfeed_dict\u001b[0m\u001b[0;34m=\u001b[0m\u001b[0;34m{\u001b[0m\u001b[0mx\u001b[0m\u001b[0;34m:\u001b[0m \u001b[0mbatch_x\u001b[0m\u001b[0;34m,\u001b[0m \u001b[0my\u001b[0m\u001b[0;34m:\u001b[0m \u001b[0mbatch_y\u001b[0m\u001b[0;34m,\u001b[0m \u001b[0mkeep_prob\u001b[0m\u001b[0;34m:\u001b[0m \u001b[0;36m0.5\u001b[0m\u001b[0;34m}\u001b[0m\u001b[0;34m)\u001b[0m\u001b[0;34m\u001b[0m\u001b[0m\n\u001b[0m\u001b[1;32m     15\u001b[0m \u001b[0;34m\u001b[0m\u001b[0m\n\u001b[1;32m     16\u001b[0m         \u001b[0mvalidation_accuracy\u001b[0m \u001b[0;34m=\u001b[0m \u001b[0mevaluate\u001b[0m\u001b[0;34m(\u001b[0m\u001b[0mX_valid\u001b[0m\u001b[0;34m,\u001b[0m \u001b[0my_valid\u001b[0m\u001b[0;34m)\u001b[0m\u001b[0;34m\u001b[0m\u001b[0m\n",
      "\u001b[0;32m/home/jh/anaconda3/lib/python3.6/site-packages/tensorflow/python/client/session.py\u001b[0m in \u001b[0;36mrun\u001b[0;34m(self, fetches, feed_dict, options, run_metadata)\u001b[0m\n\u001b[1;32m    787\u001b[0m     \u001b[0;32mtry\u001b[0m\u001b[0;34m:\u001b[0m\u001b[0;34m\u001b[0m\u001b[0m\n\u001b[1;32m    788\u001b[0m       result = self._run(None, fetches, feed_dict, options_ptr,\n\u001b[0;32m--> 789\u001b[0;31m                          run_metadata_ptr)\n\u001b[0m\u001b[1;32m    790\u001b[0m       \u001b[0;32mif\u001b[0m \u001b[0mrun_metadata\u001b[0m\u001b[0;34m:\u001b[0m\u001b[0;34m\u001b[0m\u001b[0m\n\u001b[1;32m    791\u001b[0m         \u001b[0mproto_data\u001b[0m \u001b[0;34m=\u001b[0m \u001b[0mtf_session\u001b[0m\u001b[0;34m.\u001b[0m\u001b[0mTF_GetBuffer\u001b[0m\u001b[0;34m(\u001b[0m\u001b[0mrun_metadata_ptr\u001b[0m\u001b[0;34m)\u001b[0m\u001b[0;34m\u001b[0m\u001b[0m\n",
      "\u001b[0;32m/home/jh/anaconda3/lib/python3.6/site-packages/tensorflow/python/client/session.py\u001b[0m in \u001b[0;36m_run\u001b[0;34m(self, handle, fetches, feed_dict, options, run_metadata)\u001b[0m\n\u001b[1;32m    935\u001b[0m     \u001b[0mfeed_handles\u001b[0m \u001b[0;34m=\u001b[0m \u001b[0;34m{\u001b[0m\u001b[0;34m}\u001b[0m\u001b[0;34m\u001b[0m\u001b[0m\n\u001b[1;32m    936\u001b[0m     \u001b[0;32mif\u001b[0m \u001b[0mfeed_dict\u001b[0m\u001b[0;34m:\u001b[0m\u001b[0;34m\u001b[0m\u001b[0m\n\u001b[0;32m--> 937\u001b[0;31m       \u001b[0mfeed_dict\u001b[0m \u001b[0;34m=\u001b[0m \u001b[0mnest\u001b[0m\u001b[0;34m.\u001b[0m\u001b[0mflatten_dict_items\u001b[0m\u001b[0;34m(\u001b[0m\u001b[0mfeed_dict\u001b[0m\u001b[0;34m)\u001b[0m\u001b[0;34m\u001b[0m\u001b[0m\n\u001b[0m\u001b[1;32m    938\u001b[0m       \u001b[0;32mfor\u001b[0m \u001b[0mfeed\u001b[0m\u001b[0;34m,\u001b[0m \u001b[0mfeed_val\u001b[0m \u001b[0;32min\u001b[0m \u001b[0mfeed_dict\u001b[0m\u001b[0;34m.\u001b[0m\u001b[0mitems\u001b[0m\u001b[0;34m(\u001b[0m\u001b[0;34m)\u001b[0m\u001b[0;34m:\u001b[0m\u001b[0;34m\u001b[0m\u001b[0m\n\u001b[1;32m    939\u001b[0m         \u001b[0;32mfor\u001b[0m \u001b[0msubfeed\u001b[0m\u001b[0;34m,\u001b[0m \u001b[0msubfeed_val\u001b[0m \u001b[0;32min\u001b[0m \u001b[0m_feed_fn\u001b[0m\u001b[0;34m(\u001b[0m\u001b[0mfeed\u001b[0m\u001b[0;34m,\u001b[0m \u001b[0mfeed_val\u001b[0m\u001b[0;34m)\u001b[0m\u001b[0;34m:\u001b[0m\u001b[0;34m\u001b[0m\u001b[0m\n",
      "\u001b[0;32m/home/jh/anaconda3/lib/python3.6/site-packages/tensorflow/python/util/nest.py\u001b[0m in \u001b[0;36mflatten_dict_items\u001b[0;34m(dictionary)\u001b[0m\n\u001b[1;32m    194\u001b[0m             \u001b[0;34m\"Could not flatten dictionary. Key had %d elements, but value had \"\u001b[0m\u001b[0;34m\u001b[0m\u001b[0m\n\u001b[1;32m    195\u001b[0m             \u001b[0;34m\"%d elements. Key: %s, value: %s.\"\u001b[0m\u001b[0;34m\u001b[0m\u001b[0m\n\u001b[0;32m--> 196\u001b[0;31m             % (len(flat_i), len(flat_v), flat_i, flat_v))\n\u001b[0m\u001b[1;32m    197\u001b[0m       \u001b[0;32mfor\u001b[0m \u001b[0mnew_i\u001b[0m\u001b[0;34m,\u001b[0m \u001b[0mnew_v\u001b[0m \u001b[0;32min\u001b[0m \u001b[0mzip\u001b[0m\u001b[0;34m(\u001b[0m\u001b[0mflat_i\u001b[0m\u001b[0;34m,\u001b[0m \u001b[0mflat_v\u001b[0m\u001b[0;34m)\u001b[0m\u001b[0;34m:\u001b[0m\u001b[0;34m\u001b[0m\u001b[0m\n\u001b[1;32m    198\u001b[0m         \u001b[0;32mif\u001b[0m \u001b[0mnew_i\u001b[0m \u001b[0;32min\u001b[0m \u001b[0mflat_dictionary\u001b[0m\u001b[0;34m:\u001b[0m\u001b[0;34m\u001b[0m\u001b[0m\n",
      "\u001b[0;31mValueError\u001b[0m: Could not flatten dictionary. Key had 2 elements, but value had 1 elements. Key: [<tf.Tensor 'TopKV2_20:0' shape=(?, 2) dtype=float32>, <tf.Tensor 'TopKV2_20:1' shape=(?, 2) dtype=int32>], value: [array([[[[-0.7421875, -0.734375 , -0.6328125],\n         [-0.71875  , -0.7578125, -0.65625  ],\n         [-0.71875  , -0.75     , -0.71875  ],\n         ..., \n         [-0.6953125, -0.703125 , -0.6875   ],\n         [-0.703125 , -0.6015625, -0.546875 ],\n         [-0.5546875, -0.4453125, -0.375    ]],\n\n        [[-0.7421875, -0.7265625, -0.6328125],\n         [-0.6796875, -0.703125 , -0.609375 ],\n         [-0.671875 , -0.6953125, -0.6796875],\n         ..., \n         [-0.609375 , -0.609375 , -0.53125  ],\n         [-0.5546875, -0.4609375, -0.328125 ],\n         [-0.5625   , -0.4609375, -0.3125   ]],\n\n        [[-0.703125 , -0.6875   , -0.6640625],\n         [-0.6875   , -0.6875   , -0.6640625],\n         [-0.6796875, -0.6875   , -0.6953125],\n         ..., \n         [-0.4375   , -0.4453125, -0.265625 ],\n         [-0.3828125, -0.3125   , -0.171875 ],\n         [-0.5      , -0.4140625, -0.4609375]],\n\n        ..., \n        [[-0.71875  , -0.71875  , -0.78125  ],\n         [-0.734375 , -0.765625 , -0.78125  ],\n         [-0.75     , -0.7734375, -0.7890625],\n         ..., \n         [ 0.421875 , -0.2421875, -0.3828125],\n         [ 0.546875 , -0.1953125, -0.3984375],\n         [ 0.6640625, -0.1796875, -0.40625  ]],\n\n        [[-0.6796875, -0.6796875, -0.7265625],\n         [-0.7421875, -0.7578125, -0.796875 ],\n         [-0.7578125, -0.78125  , -0.796875 ],\n         ..., \n         [ 0.453125 , -0.2109375, -0.390625 ],\n         [ 0.6171875, -0.171875 , -0.390625 ],\n         [ 0.6796875, -0.1796875, -0.40625  ]],\n\n        [[-0.640625 , -0.65625  , -0.703125 ],\n         [-0.7265625, -0.7421875, -0.765625 ],\n         [-0.78125  , -0.796875 , -0.8125   ],\n         ..., \n         [ 0.390625 , -0.2421875, -0.3828125],\n         [ 0.5625   , -0.2109375, -0.375    ],\n         [ 0.59375  , -0.234375 , -0.421875 ]]],\n\n\n       [[[-0.0234375,  0.109375 ,  0.34375  ],\n         [-0.0234375,  0.1015625,  0.3359375],\n         [-0.0234375,  0.1015625,  0.3203125],\n         ..., \n         [-0.015625 ,  0.140625 ,  0.3828125],\n         [ 0.0078125,  0.1484375,  0.390625 ],\n         [ 0.0078125,  0.140625 ,  0.375    ]],\n\n        [[-0.1328125,  0.015625 ,  0.265625 ],\n         [-0.109375 ,  0.0390625,  0.296875 ],\n         [-0.1328125,  0.0078125,  0.2421875],\n         ..., \n         [-0.1640625, -0.015625 ,  0.21875  ],\n         [-0.109375 ,  0.03125  ,  0.265625 ],\n         [-0.1171875,  0.0234375,  0.2421875]],\n\n        [[-0.2109375, -0.0390625,  0.21875  ],\n         [-0.1796875, -0.0234375,  0.2421875],\n         [-0.203125 , -0.0546875,  0.1953125],\n         ..., \n         [-0.2421875, -0.09375  ,  0.140625 ],\n         [-0.2421875, -0.09375  ,  0.140625 ],\n         [-0.234375 , -0.09375  ,  0.140625 ]],\n\n        ..., \n        [[-0.6015625, -0.6640625, -0.6875   ],\n         [-0.421875 , -0.5078125, -0.5390625],\n         [-0.484375 , -0.5859375, -0.59375  ],\n         ..., \n         [-0.671875 , -0.703125 , -0.6796875],\n         [-0.6640625, -0.6875   , -0.6640625],\n         [-0.671875 , -0.6953125, -0.671875 ]],\n\n        [[-0.5234375, -0.6328125, -0.6171875],\n         [-0.1875   , -0.296875 , -0.2890625],\n         [-0.296875 , -0.4140625, -0.3515625],\n         ..., \n         [-0.671875 , -0.6875   , -0.65625  ],\n         [-0.65625  , -0.671875 , -0.640625 ],\n         [-0.65625  , -0.6796875, -0.65625  ]],\n\n        [[-0.59375  , -0.59375  , -0.546875 ],\n         [-0.6015625, -0.6171875, -0.5625   ],\n         [-0.6015625, -0.6328125, -0.515625 ],\n         ..., \n         [-0.671875 , -0.6875   , -0.6484375],\n         [-0.6796875, -0.6796875, -0.6328125],\n         [-0.6875   , -0.6796875, -0.6484375]]],\n\n\n       [[[-0.34375  , -0.328125 , -0.390625 ],\n         [-0.421875 , -0.390625 , -0.4296875],\n         [-0.4296875, -0.40625  , -0.421875 ],\n         ..., \n         [-0.515625 , -0.484375 , -0.4453125],\n         [-0.5      , -0.4765625, -0.4296875],\n         [-0.46875  , -0.453125 , -0.4375   ]],\n\n        [[-0.3828125, -0.3671875, -0.421875 ],\n         [-0.4609375, -0.4375   , -0.4609375],\n         [-0.4765625, -0.46875  , -0.46875  ],\n         ..., \n         [-0.4921875, -0.484375 , -0.4453125],\n         [-0.4921875, -0.46875  , -0.4296875],\n         [-0.484375 , -0.4609375, -0.4375   ]],\n\n        [[-0.4453125, -0.4140625, -0.4296875],\n         [-0.484375 , -0.46875  , -0.453125 ],\n         [-0.484375 , -0.484375 , -0.4921875],\n         ..., \n         [-0.5      , -0.484375 , -0.4609375],\n         [-0.5      , -0.4765625, -0.4140625],\n         [-0.5      , -0.46875  , -0.421875 ]],\n\n        ..., \n        [[ 0.6953125,  0.390625 ,  0.4140625],\n         [ 0.6328125,  0.453125 ,  0.40625  ],\n         [ 0.75     ,  0.5625   ,  0.46875  ],\n         ..., \n         [-0.453125 , -0.4453125, -0.515625 ],\n         [-0.3046875, -0.265625 , -0.3828125],\n         [-0.2265625, -0.2109375, -0.296875 ]],\n\n        [[ 0.7421875,  0.453125 ,  0.4140625],\n         [ 0.640625 ,  0.546875 ,  0.4765625],\n         [ 0.71875  ,  0.5546875,  0.4921875],\n         ..., \n         [-0.4140625, -0.40625  , -0.4453125],\n         [-0.3515625, -0.3125   , -0.421875 ],\n         [-0.375    , -0.328125 , -0.4140625]],\n\n        [[ 0.7265625,  0.5234375,  0.4453125],\n         [ 0.6484375,  0.515625 ,  0.453125 ],\n         [ 0.75     ,  0.5234375,  0.5      ],\n         ..., \n         [-0.3984375, -0.296875 , -0.3828125],\n         [-0.125    ,  0.015625 , -0.1328125],\n         [-0.375    , -0.2578125, -0.4375   ]]],\n\n\n       ..., \n       [[[-0.0625   ,  0.       ,  0.       ],\n         [-0.6171875, -0.515625 , -0.5625   ],\n         [-0.515625 , -0.3671875, -0.390625 ],\n         ..., \n         [-0.1328125,  0.0078125,  0.1015625],\n         [ 0.3046875,  0.5078125,  0.6015625],\n         [ 0.90625  ,  0.9921875,  0.9921875]],\n\n        [[ 0.1640625,  0.       , -0.0078125],\n         [-0.4765625, -0.5      , -0.5625   ],\n         [-0.5078125, -0.3984375, -0.4375   ],\n         ..., \n         [-0.140625 ,  0.0234375,  0.109375 ],\n         [ 0.3515625,  0.6015625,  0.6484375],\n         [ 0.875    ,  0.9921875,  0.9921875]],\n\n        [[-0.0625   , -0.40625  , -0.4296875],\n         [-0.390625 , -0.5234375, -0.59375  ],\n         [-0.5      , -0.421875 , -0.46875  ],\n         ..., \n         [-0.4453125, -0.2734375, -0.140625 ],\n         [ 0.0703125,  0.34375  ,  0.59375  ],\n         [ 0.7734375,  0.9140625,  0.9921875]],\n\n        ..., \n        [[-0.765625 , -0.7734375, -0.765625 ],\n         [-0.765625 , -0.78125  , -0.7734375],\n         [-0.7578125, -0.78125  , -0.765625 ],\n         ..., \n         [-0.71875  , -0.7578125, -0.75     ],\n         [-0.765625 , -0.828125 , -0.8203125],\n         [-0.859375 , -0.890625 , -0.8828125]],\n\n        [[-0.734375 , -0.75     , -0.734375 ],\n         [-0.7265625, -0.7421875, -0.7265625],\n         [-0.71875  , -0.734375 , -0.703125 ],\n         ..., \n         [-0.7109375, -0.765625 , -0.7421875],\n         [-0.7421875, -0.828125 , -0.8125   ],\n         [-0.84375  , -0.8828125, -0.875    ]],\n\n        [[-0.7890625, -0.8125   , -0.796875 ],\n         [-0.8046875, -0.8203125, -0.8046875],\n         [-0.7890625, -0.796875 , -0.78125  ],\n         ..., \n         [-0.5546875, -0.625    , -0.5625   ],\n         [-0.6484375, -0.75     , -0.7265625],\n         [-0.8125   , -0.8671875, -0.8671875]]],\n\n\n       [[[-0.8671875, -0.875    , -0.8984375],\n         [-0.859375 , -0.8671875, -0.890625 ],\n         [-0.8671875, -0.875    , -0.8671875],\n         ..., \n         [-0.84375  , -0.859375 , -0.8515625],\n         [-0.859375 , -0.859375 , -0.8515625],\n         [-0.875    , -0.875    , -0.859375 ]],\n\n        [[-0.765625 , -0.8046875, -0.84375  ],\n         [-0.7734375, -0.7890625, -0.8359375],\n         [-0.875    , -0.875    , -0.875    ],\n         ..., \n         [-0.8671875, -0.859375 , -0.859375 ],\n         [-0.875    , -0.875    , -0.859375 ],\n         [-0.8828125, -0.8828125, -0.859375 ]],\n\n        [[-0.796875 , -0.8359375, -0.8515625],\n         [-0.8125   , -0.8203125, -0.84375  ],\n         [-0.890625 , -0.890625 , -0.8828125],\n         ..., \n         [-0.890625 , -0.890625 , -0.8828125],\n         [-0.8828125, -0.8828125, -0.8671875],\n         [-0.8828125, -0.8828125, -0.859375 ]],\n\n        ..., \n        [[-0.8828125, -0.8828125, -0.859375 ],\n         [-0.8828125, -0.8828125, -0.859375 ],\n         [-0.8828125, -0.8828125, -0.8671875],\n         ..., \n         [-0.8828125, -0.8828125, -0.875    ],\n         [-0.890625 , -0.890625 , -0.8828125],\n         [-0.890625 , -0.890625 , -0.8828125]],\n\n        [[-0.8828125, -0.875    , -0.8671875],\n         [-0.8828125, -0.8828125, -0.875    ],\n         [-0.8828125, -0.8828125, -0.875    ],\n         ..., \n         [-0.8828125, -0.875    , -0.8671875],\n         [-0.890625 , -0.890625 , -0.8828125],\n         [-0.890625 , -0.890625 , -0.8828125]],\n\n        [[-0.8671875, -0.875    , -0.875    ],\n         [-0.8671875, -0.8671875, -0.8671875],\n         [-0.8515625, -0.84375  , -0.84375  ],\n         ..., \n         [-0.8671875, -0.8671875, -0.859375 ],\n         [-0.8828125, -0.875    , -0.8671875],\n         [-0.8828125, -0.8828125, -0.875    ]]],\n\n\n       [[[-0.3125   ,  0.0625   ,  0.1796875],\n         [-0.0625   ,  0.015625 ,  0.1328125],\n         [ 0.734375 ,  0.734375 ,  0.796875 ],\n         ..., \n         [ 0.9921875,  0.9921875,  0.9921875],\n         [ 0.9921875,  0.9921875,  0.9921875],\n         [ 0.9921875,  0.9921875,  0.9921875]],\n\n        [[ 0.3515625,  0.5703125,  0.65625  ],\n         [ 0.3984375,  0.609375 ,  0.6953125],\n         [ 0.5546875,  0.71875  ,  0.859375 ],\n         ..., \n         [ 0.9921875,  0.9921875,  0.9921875],\n         [ 0.9921875,  0.9921875,  0.9921875],\n         [ 0.9921875,  0.9921875,  0.9921875]],\n\n        [[ 0.8515625,  0.9453125,  0.9921875],\n         [ 0.5234375,  0.7890625,  0.9140625],\n         [ 0.4375   ,  0.7265625,  0.8828125],\n         ..., \n         [ 0.9921875,  0.9921875,  0.9921875],\n         [ 0.9921875,  0.9921875,  0.9921875],\n         [ 0.9921875,  0.9921875,  0.9921875]],\n\n        ..., \n        [[ 0.3046875,  0.65625  ,  0.7890625],\n         [ 0.2265625,  0.203125 ,  0.3671875],\n         [ 0.8359375,  0.765625 ,  0.8046875],\n         ..., \n         [ 0.2421875,  0.4140625,  0.796875 ],\n         [-0.046875 ,  0.109375 ,  0.2421875],\n         [-0.0859375, -0.03125  ,  0.046875 ]],\n\n        [[ 0.53125  ,  0.796875 ,  0.859375 ],\n         [ 0.703125 ,  0.6875   ,  0.7578125],\n         [ 0.96875  ,  0.9296875,  0.9453125],\n         ..., \n         [ 0.2890625,  0.421875 ,  0.7109375],\n         [ 0.       ,  0.1171875,  0.390625 ],\n         [-0.109375 , -0.0390625,  0.1875   ]],\n\n        [[ 0.9140625,  0.9609375,  0.9765625],\n         [ 0.9609375,  0.984375 ,  0.9921875],\n         [ 0.9765625,  0.9921875,  0.9921875],\n         ..., \n         [ 0.171875 ,  0.25     ,  0.578125 ],\n         [ 0.03125  ,  0.0546875,  0.296875 ],\n         [-0.015625 , -0.015625 ,  0.1640625]]]])]."
     ]
    }
   ],
   "source": [
    "with tf.Session() as sess:\n",
    "    sess.run(tf.global_variables_initializer())\n",
    "    num_examples = len(X_train)\n",
    "\n",
    "    print(\"Training...\")\n",
    "    print()\n",
    "    starttime = time.time()\n",
    "    for i in range(EPOCHS):\n",
    "        X_train, y_train = shuffle(X_train, y_train)\n",
    "        \n",
    "        for offset in range(0, num_examples, BATCH_SIZE):\n",
    "            end = offset + BATCH_SIZE\n",
    "            batch_x, batch_y = X_train[offset:end], y_train[offset:end]\n",
    "            sess.run(training_operation, feed_dict={x: batch_x, y: batch_y, keep_prob: 0.5})\n",
    "\n",
    "        validation_accuracy = evaluate(X_valid, y_valid)\n",
    "        print(\"EPOCH {} ... {:.2f}s passed\".format(i, time.time()-starttime))\n",
    "        print(\"Validation Accuracy = {:.3f}\".format(validation_accuracy))\n",
    "        print()\n",
    "        \n",
    "        \n",
    "    saver.save(sess, './vgg')\n",
    "    print(\"Model saved\")\n"
   ]
  },
  {
   "cell_type": "code",
   "execution_count": 81,
   "metadata": {
    "collapsed": false
   },
   "outputs": [
    {
     "name": "stdout",
     "output_type": "stream",
     "text": [
      "INFO:tensorflow:Restoring parameters from ./vgg\n",
      "Test Accuracy = 0.937\n"
     ]
    }
   ],
   "source": [
    "\n",
    "#Test set\n",
    "with tf.Session() as sess:\n",
    "    saver.restore(sess, tf.train.latest_checkpoint('.'))\n",
    "    test_accuracy = evaluate(X_test, y_test)\n",
    "    print(\"Test Accuracy = {:.3f}\".format(test_accuracy))"
   ]
  },
  {
   "cell_type": "markdown",
   "metadata": {},
   "source": [
    "---\n",
    "\n",
    "## Step 3: Test a Model on New Images\n",
    "\n",
    "To give yourself more insight into how your model is working, download at least five pictures of German traffic signs from the web and use your model to predict the traffic sign type.\n",
    "\n",
    "You may find `signnames.csv` useful as it contains mappings from the class id (integer) to the actual sign name."
   ]
  },
  {
   "cell_type": "markdown",
   "metadata": {},
   "source": [
    "### Load and Output the Images"
   ]
  },
  {
   "cell_type": "code",
   "execution_count": 133,
   "metadata": {
    "collapsed": false,
    "scrolled": true
   },
   "outputs": [
    {
     "name": "stdout",
     "output_type": "stream",
     "text": [
      "INFO:tensorflow:Restoring parameters from ./vgg\n",
      "33 ['Turn right ahead']\n",
      "[ 2963.87133789   616.07073975 -1022.28692627 -1087.41003418 -1184.6796875 ] [33 39 22 40 13]\n",
      "14 ['Stop']\n",
      "[ 3764.95751953  2610.12988281   542.16461182   445.44219971    78.31369019] [14 15 17  0  1]\n",
      "35 ['Ahead only']\n",
      "[ 4344.70214844  1812.64758301  1267.95446777   655.75085449   545.63024902] [35 36 34  3 33]\n",
      "25 ['Road work']\n",
      "[ 3007.53491211  1122.13061523   683.8104248   -479.25033569  -555.93182373] [25 13 30 29  5]\n",
      "1 ['Speed limit (30km/h)']\n",
      "[ 659.88531494  120.16781616  -66.53720093 -209.90368652 -248.27033997] [ 1 16  3  6 14]\n"
     ]
    }
   ],
   "source": [
    "### Load the images and plot them here.\n",
    "from fnmatch import fnmatch\n",
    "import os\n",
    "import matplotlib.image as mpimg\n",
    "import PIL\n",
    "from PIL import Image\n",
    "\n",
    "jpegs = [f for f in os.listdir(\"test_images/\") if fnmatch(f, \"*.jpg\")]\n",
    "width, height = 32, 32\n",
    "\n",
    "# read csv as dict\n",
    "df_signnames = pd.read_csv('./signnames.csv')\n",
    "\n",
    "test_images = np.zeros((5,32,32,3))\n",
    "for i in range(5):\n",
    "    im = Image.open(\"test_images/\"+jpegs[i]).resize((32,32), Image.ANTIALIAS)\n",
    "    test_images[i] = np.array(im)\n",
    "\n",
    "with tf.Session() as sess:\n",
    "    saver.restore(sess, tf.train.latest_checkpoint('.'))\n",
    "    feed_dict = {x: test_images, y:[33, 14, 35, 25, 8], keep_prob: 1}\n",
    "    classification = sess.run(tf.argmax(logits,1), feed_dict=feed_dict)\n",
    "    prob = sess.run(logits, feed_dict=feed_dict)\n",
    "    top5 = sess.run(tf.nn.top_k(tf.constant(prob), k=5))\n",
    "    for i in range(5):\n",
    "        print(classification[i], df_signnames[df_signnames.ClassId==classification[i]].SignName.values)\n",
    "        print(top5.values[i], top5.indices[i])"
   ]
  },
  {
   "cell_type": "markdown",
   "metadata": {},
   "source": [
    "### Predict the Sign Type for Each Image"
   ]
  },
  {
   "cell_type": "code",
   "execution_count": 3,
   "metadata": {
    "collapsed": true
   },
   "outputs": [],
   "source": [
    "### Run the predictions here and use the model to output the prediction for each image.\n",
    "### Make sure to pre-process the images with the same pre-processing pipeline used earlier.\n",
    "### Feel free to use as many code cells as needed."
   ]
  },
  {
   "cell_type": "markdown",
   "metadata": {},
   "source": [
    "### Analyze Performance"
   ]
  },
  {
   "cell_type": "code",
   "execution_count": 4,
   "metadata": {
    "collapsed": true
   },
   "outputs": [],
   "source": [
    "### Calculate the accuracy for these 5 new images. \n",
    "### For example, if the model predicted 1 out of 5 signs correctly, it's 20% accurate on these new images."
   ]
  },
  {
   "cell_type": "markdown",
   "metadata": {},
   "source": [
    "### Output Top 5 Softmax Probabilities For Each Image Found on the Web"
   ]
  },
  {
   "cell_type": "markdown",
   "metadata": {},
   "source": [
    "For each of the new images, print out the model's softmax probabilities to show the **certainty** of the model's predictions (limit the output to the top 5 probabilities for each image). [`tf.nn.top_k`](https://www.tensorflow.org/versions/r0.12/api_docs/python/nn.html#top_k) could prove helpful here. \n",
    "\n",
    "The example below demonstrates how tf.nn.top_k can be used to find the top k predictions for each image.\n",
    "\n",
    "`tf.nn.top_k` will return the values and indices (class ids) of the top k predictions. So if k=3, for each sign, it'll return the 3 largest probabilities (out of a possible 43) and the correspoding class ids.\n",
    "\n",
    "Take this numpy array as an example. The values in the array represent predictions. The array contains softmax probabilities for five candidate images with six possible classes. `tf.nn.top_k` is used to choose the three classes with the highest probability:\n",
    "\n",
    "```\n",
    "# (5, 6) array\n",
    "a = np.array([[ 0.24879643,  0.07032244,  0.12641572,  0.34763842,  0.07893497,\n",
    "         0.12789202],\n",
    "       [ 0.28086119,  0.27569815,  0.08594638,  0.0178669 ,  0.18063401,\n",
    "         0.15899337],\n",
    "       [ 0.26076848,  0.23664738,  0.08020603,  0.07001922,  0.1134371 ,\n",
    "         0.23892179],\n",
    "       [ 0.11943333,  0.29198961,  0.02605103,  0.26234032,  0.1351348 ,\n",
    "         0.16505091],\n",
    "       [ 0.09561176,  0.34396535,  0.0643941 ,  0.16240774,  0.24206137,\n",
    "         0.09155967]])\n",
    "```\n",
    "\n",
    "Running it through `sess.run(tf.nn.top_k(tf.constant(a), k=3))` produces:\n",
    "\n",
    "```\n",
    "TopKV2(values=array([[ 0.34763842,  0.24879643,  0.12789202],\n",
    "       [ 0.28086119,  0.27569815,  0.18063401],\n",
    "       [ 0.26076848,  0.23892179,  0.23664738],\n",
    "       [ 0.29198961,  0.26234032,  0.16505091],\n",
    "       [ 0.34396535,  0.24206137,  0.16240774]]), indices=array([[3, 0, 5],\n",
    "       [0, 1, 4],\n",
    "       [0, 5, 1],\n",
    "       [1, 3, 5],\n",
    "       [1, 4, 3]], dtype=int32))\n",
    "```\n",
    "\n",
    "Looking just at the first row we get `[ 0.34763842,  0.24879643,  0.12789202]`, you can confirm these are the 3 largest probabilities in `a`. You'll also notice `[3, 0, 5]` are the corresponding indices."
   ]
  },
  {
   "cell_type": "code",
   "execution_count": 3,
   "metadata": {
    "collapsed": true
   },
   "outputs": [],
   "source": [
    "### Print out the top five softmax probabilities for the predictions on the German traffic sign images found on the web. \n",
    "### Feel free to use as many code cells as needed."
   ]
  },
  {
   "cell_type": "markdown",
   "metadata": {},
   "source": [
    "### Project Writeup\n",
    "\n",
    "Once you have completed the code implementation, document your results in a project writeup using this [template](https://github.com/udacity/CarND-Traffic-Sign-Classifier-Project/blob/master/writeup_template.md) as a guide. The writeup can be in a markdown or pdf file. "
   ]
  },
  {
   "cell_type": "markdown",
   "metadata": {},
   "source": [
    "> **Note**: Once you have completed all of the code implementations and successfully answered each question above, you may finalize your work by exporting the iPython Notebook as an HTML document. You can do this by using the menu above and navigating to  \\n\",\n",
    "    \"**File -> Download as -> HTML (.html)**. Include the finished document along with this notebook as your submission."
   ]
  },
  {
   "cell_type": "markdown",
   "metadata": {},
   "source": [
    "---\n",
    "\n",
    "## Step 4 (Optional): Visualize the Neural Network's State with Test Images\n",
    "\n",
    " This Section is not required to complete but acts as an additional excersise for understaning the output of a neural network's weights. While neural networks can be a great learning device they are often referred to as a black box. We can understand what the weights of a neural network look like better by plotting their feature maps. After successfully training your neural network you can see what it's feature maps look like by plotting the output of the network's weight layers in response to a test stimuli image. From these plotted feature maps, it's possible to see what characteristics of an image the network finds interesting. For a sign, maybe the inner network feature maps react with high activation to the sign's boundary outline or to the contrast in the sign's painted symbol.\n",
    "\n",
    " Provided for you below is the function code that allows you to get the visualization output of any tensorflow weight layer you want. The inputs to the function should be a stimuli image, one used during training or a new one you provided, and then the tensorflow variable name that represents the layer's state during the training process, for instance if you wanted to see what the [LeNet lab's](https://classroom.udacity.com/nanodegrees/nd013/parts/fbf77062-5703-404e-b60c-95b78b2f3f9e/modules/6df7ae49-c61c-4bb2-a23e-6527e69209ec/lessons/601ae704-1035-4287-8b11-e2c2716217ad/concepts/d4aca031-508f-4e0b-b493-e7b706120f81) feature maps looked like for it's second convolutional layer you could enter conv2 as the tf_activation variable.\n",
    "\n",
    "For an example of what feature map outputs look like, check out NVIDIA's results in their paper [End-to-End Deep Learning for Self-Driving Cars](https://devblogs.nvidia.com/parallelforall/deep-learning-self-driving-cars/) in the section Visualization of internal CNN State. NVIDIA was able to show that their network's inner weights had high activations to road boundary lines by comparing feature maps from an image with a clear path to one without. Try experimenting with a similar test to show that your trained network's weights are looking for interesting features, whether it's looking at differences in feature maps from images with or without a sign, or even what feature maps look like in a trained network vs a completely untrained one on the same sign image.\n",
    "\n",
    "<figure>\n",
    " <img src=\"visualize_cnn.png\" width=\"380\" alt=\"Combined Image\" />\n",
    " <figcaption>\n",
    " <p></p> \n",
    " <p style=\"text-align: center;\"> Your output should look something like this (above)</p> \n",
    " </figcaption>\n",
    "</figure>\n",
    " <p></p> \n"
   ]
  },
  {
   "cell_type": "code",
   "execution_count": null,
   "metadata": {
    "collapsed": true
   },
   "outputs": [],
   "source": [
    "### Visualize your network's feature maps here.\n",
    "### Feel free to use as many code cells as needed.\n",
    "\n",
    "# image_input: the test image being fed into the network to produce the feature maps\n",
    "# tf_activation: should be a tf variable name used during your training procedure that represents the calculated state of a specific weight layer\n",
    "# activation_min/max: can be used to view the activation contrast in more detail, by default matplot sets min and max to the actual min and max values of the output\n",
    "# plt_num: used to plot out multiple different weight feature map sets on the same block, just extend the plt number for each new feature map entry\n",
    "\n",
    "def outputFeatureMap(image_input, tf_activation, activation_min=-1, activation_max=-1 ,plt_num=1):\n",
    "    # Here make sure to preprocess your image_input in a way your network expects\n",
    "    # with size, normalization, ect if needed\n",
    "    # image_input =\n",
    "    # Note: x should be the same name as your network's tensorflow data placeholder variable\n",
    "    # If you get an error tf_activation is not defined it may be having trouble accessing the variable from inside a function\n",
    "    activation = tf_activation.eval(session=sess,feed_dict={x : image_input})\n",
    "    featuremaps = activation.shape[3]\n",
    "    plt.figure(plt_num, figsize=(15,15))\n",
    "    for featuremap in range(featuremaps):\n",
    "        plt.subplot(6,8, featuremap+1) # sets the number of feature maps to show on each row and column\n",
    "        plt.title('FeatureMap ' + str(featuremap)) # displays the feature map number\n",
    "        if activation_min != -1 & activation_max != -1:\n",
    "            plt.imshow(activation[0,:,:, featuremap], interpolation=\"nearest\", vmin =activation_min, vmax=activation_max, cmap=\"gray\")\n",
    "        elif activation_max != -1:\n",
    "            plt.imshow(activation[0,:,:, featuremap], interpolation=\"nearest\", vmax=activation_max, cmap=\"gray\")\n",
    "        elif activation_min !=-1:\n",
    "            plt.imshow(activation[0,:,:, featuremap], interpolation=\"nearest\", vmin=activation_min, cmap=\"gray\")\n",
    "        else:\n",
    "            plt.imshow(activation[0,:,:, featuremap], interpolation=\"nearest\", cmap=\"gray\")"
   ]
  }
 ],
 "metadata": {
  "anaconda-cloud": {},
  "kernelspec": {
   "display_name": "Python 3",
   "language": "python",
   "name": "python3"
  },
  "language_info": {
   "codemirror_mode": {
    "name": "ipython",
    "version": 3
   },
   "file_extension": ".py",
   "mimetype": "text/x-python",
   "name": "python",
   "nbconvert_exporter": "python",
   "pygments_lexer": "ipython3",
   "version": "3.6.0"
  }
 },
 "nbformat": 4,
 "nbformat_minor": 1
}
